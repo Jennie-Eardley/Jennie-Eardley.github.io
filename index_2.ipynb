{
 "cells": [
  {
   "cell_type": "markdown",
   "metadata": {},
   "source": [
    "## Jennie Eardley Jupyter Notebook Collection "
   ]
  },
  {
   "cell_type": "markdown",
   "metadata": {},
   "source": [
    "Some stuff about books\n",
    "[Jane Austen](/jane_austen_R.html)\n",
    "\n",
    "A thing with some NHS data.\n",
    "[NHS Data Notebook](/NHS_cancer_data.html)\n",
    "\n",
    "Fires\n",
    "[Forest Fires](/python_forest_fires_analysis.html)"
   ]
  }
 ],
 "metadata": {
  "kernelspec": {
   "display_name": "Python 3",
   "language": "python",
   "name": "python3"
  },
  "language_info": {
   "codemirror_mode": {
    "name": "ipython",
    "version": 3
   },
   "file_extension": ".py",
   "mimetype": "text/x-python",
   "name": "python",
   "nbconvert_exporter": "python",
   "pygments_lexer": "ipython3",
   "version": "3.7.7"
  }
 },
 "nbformat": 4,
 "nbformat_minor": 4
}
