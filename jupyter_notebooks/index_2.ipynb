{
 "cells": [
  {
   "cell_type": "markdown",
   "metadata": {},
   "source": [
    "## Jennie Eardley Jupyter Notebook Collection "
   ]
  },
  {
   "cell_type": "markdown",
   "metadata": {},
   "source": [
    "A notebook in R exploring two Jane Austen books\n",
    "[Jane Austen](/jane_austen_R.html)\n",
    "\n",
    "A notebook in R exploring NHS cancer data\n",
    "[NHS Data Notebook](/NHS_cancer_data.html)\n",
    "\n",
    "A notebook in Python exploring forest fire data \n",
    "[Forest Fires](/python_forest_fires_analysis.html)"
   ]
  }
 ],
 "metadata": {
  "kernelspec": {
   "display_name": "Python 3",
   "language": "python",
   "name": "python3"
  },
  "language_info": {
   "codemirror_mode": {
    "name": "ipython",
    "version": 3
   },
   "file_extension": ".py",
   "mimetype": "text/x-python",
   "name": "python",
   "nbconvert_exporter": "python",
   "pygments_lexer": "ipython3",
   "version": "3.7.7"
  }
 },
 "nbformat": 4,
 "nbformat_minor": 4
}
