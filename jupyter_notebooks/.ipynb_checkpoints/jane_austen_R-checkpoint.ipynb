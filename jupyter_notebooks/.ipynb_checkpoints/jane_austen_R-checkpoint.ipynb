{
 "cells": [
  {
   "cell_type": "markdown",
   "metadata": {},
   "source": [
    "## Jane Austen Text Analysis"
   ]
  },
  {
   "cell_type": "code",
   "execution_count": 25,
   "metadata": {},
   "outputs": [],
   "source": [
    "# installing libraries for text analysis \n",
    "library(tidyverse)\n",
    "library(tidytext)\n",
    "library(janeaustenr)\n",
    "library(tidyr)\n",
    "library(ggplot2);"
   ]
  },
  {
   "cell_type": "code",
   "execution_count": 2,
   "metadata": {},
   "outputs": [],
   "source": [
    "# filtering tibble and unnesting words\n",
    "austen_tibble <- austen_books() %>%\n",
    "  filter(book == \"Pride & Prejudice\" | book == \"Sense & Sensibility\") %>%\n",
    "  unnest_tokens(word, text) %>%\n",
    "  count(word, book, sort = TRUE)"
   ]
  },
  {
   "cell_type": "code",
   "execution_count": 3,
   "metadata": {},
   "outputs": [
    {
     "data": {
      "text/html": [
       "<table>\n",
       "<thead><tr><th scope=col>word</th><th scope=col>book</th><th scope=col>n</th></tr></thead>\n",
       "<tbody>\n",
       "\t<tr><td>to                     </td><td>Sense &amp; Sensibility</td><td>4116                   </td></tr>\n",
       "\t<tr><td>the                    </td><td>Sense &amp; Sensibility</td><td>4105                   </td></tr>\n",
       "\t<tr><td>of                     </td><td>Sense &amp; Sensibility</td><td>3571                   </td></tr>\n",
       "\t<tr><td>and                    </td><td>Sense &amp; Sensibility</td><td>3490                   </td></tr>\n",
       "\t<tr><td>her                    </td><td>Sense &amp; Sensibility</td><td>2543                   </td></tr>\n",
       "\t<tr><td><span style=white-space:pre-wrap>a  </span></td><td>Sense &amp; Sensibility                    </td><td>2092                                       </td></tr>\n",
       "\t<tr><td><span style=white-space:pre-wrap>i  </span></td><td>Sense &amp; Sensibility                    </td><td>1998                                       </td></tr>\n",
       "\t<tr><td>in                     </td><td>Sense &amp; Sensibility</td><td>1979                   </td></tr>\n",
       "\t<tr><td>was                    </td><td>Sense &amp; Sensibility</td><td>1861                   </td></tr>\n",
       "\t<tr><td>it                     </td><td>Sense &amp; Sensibility</td><td>1755                   </td></tr>\n",
       "</tbody>\n",
       "</table>\n"
      ],
      "text/latex": [
       "\\begin{tabular}{r|lll}\n",
       " word & book & n\\\\\n",
       "\\hline\n",
       "\t to                    & Sense \\& Sensibility & 4116                 \\\\\n",
       "\t the                   & Sense \\& Sensibility & 4105                 \\\\\n",
       "\t of                    & Sense \\& Sensibility & 3571                 \\\\\n",
       "\t and                   & Sense \\& Sensibility & 3490                 \\\\\n",
       "\t her                   & Sense \\& Sensibility & 2543                 \\\\\n",
       "\t a                     & Sense \\& Sensibility & 2092                 \\\\\n",
       "\t i                     & Sense \\& Sensibility & 1998                 \\\\\n",
       "\t in                    & Sense \\& Sensibility & 1979                 \\\\\n",
       "\t was                   & Sense \\& Sensibility & 1861                 \\\\\n",
       "\t it                    & Sense \\& Sensibility & 1755                 \\\\\n",
       "\\end{tabular}\n"
      ],
      "text/markdown": [
       "\n",
       "| word | book | n |\n",
       "|---|---|---|\n",
       "| to                  | Sense & Sensibility | 4116                |\n",
       "| the                 | Sense & Sensibility | 4105                |\n",
       "| of                  | Sense & Sensibility | 3571                |\n",
       "| and                 | Sense & Sensibility | 3490                |\n",
       "| her                 | Sense & Sensibility | 2543                |\n",
       "| a                   | Sense & Sensibility | 2092                |\n",
       "| i                   | Sense & Sensibility | 1998                |\n",
       "| in                  | Sense & Sensibility | 1979                |\n",
       "| was                 | Sense & Sensibility | 1861                |\n",
       "| it                  | Sense & Sensibility | 1755                |\n",
       "\n"
      ],
      "text/plain": [
       "   word book                n   \n",
       "1  to   Sense & Sensibility 4116\n",
       "2  the  Sense & Sensibility 4105\n",
       "3  of   Sense & Sensibility 3571\n",
       "4  and  Sense & Sensibility 3490\n",
       "5  her  Sense & Sensibility 2543\n",
       "6  a    Sense & Sensibility 2092\n",
       "7  i    Sense & Sensibility 1998\n",
       "8  in   Sense & Sensibility 1979\n",
       "9  was  Sense & Sensibility 1861\n",
       "10 it   Sense & Sensibility 1755"
      ]
     },
     "metadata": {},
     "output_type": "display_data"
    }
   ],
   "source": [
    "# top ten words in Sense & Sensibility\n",
    "austen_tibble %>%\n",
    "  filter(book == \"Sense & Sensibility\") %>% \n",
    "  head(10)"
   ]
  },
  {
   "cell_type": "code",
   "execution_count": 4,
   "metadata": {},
   "outputs": [
    {
     "data": {
      "text/html": [
       "<table>\n",
       "<thead><tr><th scope=col>word</th><th scope=col>book</th><th scope=col>n</th></tr></thead>\n",
       "<tbody>\n",
       "\t<tr><td>the                  </td><td>Pride &amp; Prejudice</td><td>4331                 </td></tr>\n",
       "\t<tr><td>to                   </td><td>Pride &amp; Prejudice</td><td>4162                 </td></tr>\n",
       "\t<tr><td>of                   </td><td>Pride &amp; Prejudice</td><td>3610                 </td></tr>\n",
       "\t<tr><td>and                  </td><td>Pride &amp; Prejudice</td><td>3585                 </td></tr>\n",
       "\t<tr><td>her                  </td><td>Pride &amp; Prejudice</td><td>2203                 </td></tr>\n",
       "\t<tr><td><span style=white-space:pre-wrap>i  </span></td><td>Pride &amp; Prejudice                      </td><td>2065                                       </td></tr>\n",
       "\t<tr><td><span style=white-space:pre-wrap>a  </span></td><td>Pride &amp; Prejudice                      </td><td>1954                                       </td></tr>\n",
       "\t<tr><td>in                   </td><td>Pride &amp; Prejudice</td><td>1880                 </td></tr>\n",
       "\t<tr><td>was                  </td><td>Pride &amp; Prejudice</td><td>1843                 </td></tr>\n",
       "\t<tr><td>she                  </td><td>Pride &amp; Prejudice</td><td>1695                 </td></tr>\n",
       "</tbody>\n",
       "</table>\n"
      ],
      "text/latex": [
       "\\begin{tabular}{r|lll}\n",
       " word & book & n\\\\\n",
       "\\hline\n",
       "\t the                 & Pride \\& Prejudice & 4331               \\\\\n",
       "\t to                  & Pride \\& Prejudice & 4162               \\\\\n",
       "\t of                  & Pride \\& Prejudice & 3610               \\\\\n",
       "\t and                 & Pride \\& Prejudice & 3585               \\\\\n",
       "\t her                 & Pride \\& Prejudice & 2203               \\\\\n",
       "\t i                   & Pride \\& Prejudice & 2065               \\\\\n",
       "\t a                   & Pride \\& Prejudice & 1954               \\\\\n",
       "\t in                  & Pride \\& Prejudice & 1880               \\\\\n",
       "\t was                 & Pride \\& Prejudice & 1843               \\\\\n",
       "\t she                 & Pride \\& Prejudice & 1695               \\\\\n",
       "\\end{tabular}\n"
      ],
      "text/markdown": [
       "\n",
       "| word | book | n |\n",
       "|---|---|---|\n",
       "| the               | Pride & Prejudice | 4331              |\n",
       "| to                | Pride & Prejudice | 4162              |\n",
       "| of                | Pride & Prejudice | 3610              |\n",
       "| and               | Pride & Prejudice | 3585              |\n",
       "| her               | Pride & Prejudice | 2203              |\n",
       "| i                 | Pride & Prejudice | 2065              |\n",
       "| a                 | Pride & Prejudice | 1954              |\n",
       "| in                | Pride & Prejudice | 1880              |\n",
       "| was               | Pride & Prejudice | 1843              |\n",
       "| she               | Pride & Prejudice | 1695              |\n",
       "\n"
      ],
      "text/plain": [
       "   word book              n   \n",
       "1  the  Pride & Prejudice 4331\n",
       "2  to   Pride & Prejudice 4162\n",
       "3  of   Pride & Prejudice 3610\n",
       "4  and  Pride & Prejudice 3585\n",
       "5  her  Pride & Prejudice 2203\n",
       "6  i    Pride & Prejudice 2065\n",
       "7  a    Pride & Prejudice 1954\n",
       "8  in   Pride & Prejudice 1880\n",
       "9  was  Pride & Prejudice 1843\n",
       "10 she  Pride & Prejudice 1695"
      ]
     },
     "metadata": {},
     "output_type": "display_data"
    }
   ],
   "source": [
    "# top ten words in Pride & Prejudice \n",
    "austen_tibble %>%\n",
    "  filter(book == \"Pride & Prejudice\") %>% \n",
    "  head(10)"
   ]
  },
  {
   "cell_type": "code",
   "execution_count": 5,
   "metadata": {},
   "outputs": [],
   "source": [
    "# looking at word frequency in both Sense and Sensibility and Pride and Prejudice\n",
    "titles <- c(\"Sense & Sensibility\", \"Pride & Prejudice\")\n",
    "books <- list(sensesensibility, prideprejudice)"
   ]
  },
  {
   "cell_type": "code",
   "execution_count": 6,
   "metadata": {},
   "outputs": [],
   "source": [
    "# pasting words together\n",
    "books <- purrr::map_chr(books, paste, collapse = \" \") "
   ]
  },
  {
   "cell_type": "code",
   "execution_count": 7,
   "metadata": {},
   "outputs": [],
   "source": [
    "# creating a tibble with the words from both books\n",
    "austen_books_df <-\n",
    "tibble(\n",
    "  title = titles,\n",
    "  text = books\n",
    ") %>%\n",
    "  unnest_tokens(word, text)"
   ]
  },
  {
   "cell_type": "code",
   "execution_count": 8,
   "metadata": {
    "scrolled": true
   },
   "outputs": [],
   "source": [
    "# calculating Term Frequency - Inverse Document Frequency\n",
    "austen_books_tf_idf <-\n",
    "austen_books_df %>%\n",
    "  count(word, title) %>%\n",
    "  bind_tf_idf(word, title, n) %>%\n",
    "  arrange(desc(tf_idf)) "
   ]
  },
  {
   "cell_type": "code",
   "execution_count": 9,
   "metadata": {},
   "outputs": [
    {
     "data": {
      "text/html": [
       "<table>\n",
       "<thead><tr><th scope=col>word</th><th scope=col>title</th><th scope=col>n</th><th scope=col>tf</th><th scope=col>idf</th><th scope=col>tf_idf</th></tr></thead>\n",
       "<tbody>\n",
       "\t<tr><td><span style=white-space:pre-wrap>elinor    </span></td><td>Sense &amp; Sensibility                           </td><td>623                                               </td><td>0.0051933545                                      </td><td>0.6931472                                         </td><td>0.0035997590                                      </td></tr>\n",
       "\t<tr><td><span style=white-space:pre-wrap>marianne  </span></td><td>Sense &amp; Sensibility                           </td><td>492                                               </td><td>0.0041013329                                      </td><td>0.6931472                                         </td><td>0.0028428274                                      </td></tr>\n",
       "\t<tr><td><span style=white-space:pre-wrap>dashwood  </span></td><td>Sense &amp; Sensibility                           </td><td>231                                               </td><td>0.0019256258                                      </td><td>0.6931472                                         </td><td>0.0013347421                                      </td></tr>\n",
       "\t<tr><td><span style=white-space:pre-wrap>jennings  </span></td><td>Sense &amp; Sensibility                           </td><td>199                                               </td><td>0.0016588725                                      </td><td>0.6931472                                         </td><td>0.0011498428                                      </td></tr>\n",
       "\t<tr><td>willoughby             </td><td>Sense &amp; Sensibility</td><td>181                    </td><td>0.0015088237           </td><td>0.6931472              </td><td>0.0010458369           </td></tr>\n",
       "\t<tr><td><span style=white-space:pre-wrap>lucy      </span></td><td>Sense &amp; Sensibility                           </td><td>160                                               </td><td>0.0013337668                                      </td><td>0.6931472                                         </td><td>0.0009244967                                      </td></tr>\n",
       "\t<tr><td><span style=white-space:pre-wrap>brandon   </span></td><td>Sense &amp; Sensibility                           </td><td>119                                               </td><td>0.0009919891                                      </td><td>0.6931472                                         </td><td>0.0006875944                                      </td></tr>\n",
       "\t<tr><td><span style=white-space:pre-wrap>ferrars   </span></td><td>Sense &amp; Sensibility                           </td><td>114                                               </td><td>0.0009503089                                      </td><td>0.6931472                                         </td><td>0.0006587039                                      </td></tr>\n",
       "\t<tr><td><span style=white-space:pre-wrap>barton    </span></td><td>Sense &amp; Sensibility                           </td><td> 89                                               </td><td>0.0007419078                                      </td><td>0.6931472                                         </td><td>0.0005142513                                      </td></tr>\n",
       "\t<tr><td>middleton              </td><td>Sense &amp; Sensibility</td><td> 87                    </td><td>0.0007252357           </td><td>0.6931472              </td><td>0.0005026951           </td></tr>\n",
       "</tbody>\n",
       "</table>\n"
      ],
      "text/latex": [
       "\\begin{tabular}{r|llllll}\n",
       " word & title & n & tf & idf & tf\\_idf\\\\\n",
       "\\hline\n",
       "\t elinor                & Sense \\& Sensibility & 623                   & 0.0051933545          & 0.6931472             & 0.0035997590         \\\\\n",
       "\t marianne              & Sense \\& Sensibility & 492                   & 0.0041013329          & 0.6931472             & 0.0028428274         \\\\\n",
       "\t dashwood              & Sense \\& Sensibility & 231                   & 0.0019256258          & 0.6931472             & 0.0013347421         \\\\\n",
       "\t jennings              & Sense \\& Sensibility & 199                   & 0.0016588725          & 0.6931472             & 0.0011498428         \\\\\n",
       "\t willoughby            & Sense \\& Sensibility & 181                   & 0.0015088237          & 0.6931472             & 0.0010458369         \\\\\n",
       "\t lucy                  & Sense \\& Sensibility & 160                   & 0.0013337668          & 0.6931472             & 0.0009244967         \\\\\n",
       "\t brandon               & Sense \\& Sensibility & 119                   & 0.0009919891          & 0.6931472             & 0.0006875944         \\\\\n",
       "\t ferrars               & Sense \\& Sensibility & 114                   & 0.0009503089          & 0.6931472             & 0.0006587039         \\\\\n",
       "\t barton                & Sense \\& Sensibility &  89                   & 0.0007419078          & 0.6931472             & 0.0005142513         \\\\\n",
       "\t middleton             & Sense \\& Sensibility &  87                   & 0.0007252357          & 0.6931472             & 0.0005026951         \\\\\n",
       "\\end{tabular}\n"
      ],
      "text/markdown": [
       "\n",
       "| word | title | n | tf | idf | tf_idf |\n",
       "|---|---|---|---|---|---|\n",
       "| elinor              | Sense & Sensibility | 623                 | 0.0051933545        | 0.6931472           | 0.0035997590        |\n",
       "| marianne            | Sense & Sensibility | 492                 | 0.0041013329        | 0.6931472           | 0.0028428274        |\n",
       "| dashwood            | Sense & Sensibility | 231                 | 0.0019256258        | 0.6931472           | 0.0013347421        |\n",
       "| jennings            | Sense & Sensibility | 199                 | 0.0016588725        | 0.6931472           | 0.0011498428        |\n",
       "| willoughby          | Sense & Sensibility | 181                 | 0.0015088237        | 0.6931472           | 0.0010458369        |\n",
       "| lucy                | Sense & Sensibility | 160                 | 0.0013337668        | 0.6931472           | 0.0009244967        |\n",
       "| brandon             | Sense & Sensibility | 119                 | 0.0009919891        | 0.6931472           | 0.0006875944        |\n",
       "| ferrars             | Sense & Sensibility | 114                 | 0.0009503089        | 0.6931472           | 0.0006587039        |\n",
       "| barton              | Sense & Sensibility |  89                 | 0.0007419078        | 0.6931472           | 0.0005142513        |\n",
       "| middleton           | Sense & Sensibility |  87                 | 0.0007252357        | 0.6931472           | 0.0005026951        |\n",
       "\n"
      ],
      "text/plain": [
       "   word       title               n   tf           idf       tf_idf      \n",
       "1  elinor     Sense & Sensibility 623 0.0051933545 0.6931472 0.0035997590\n",
       "2  marianne   Sense & Sensibility 492 0.0041013329 0.6931472 0.0028428274\n",
       "3  dashwood   Sense & Sensibility 231 0.0019256258 0.6931472 0.0013347421\n",
       "4  jennings   Sense & Sensibility 199 0.0016588725 0.6931472 0.0011498428\n",
       "5  willoughby Sense & Sensibility 181 0.0015088237 0.6931472 0.0010458369\n",
       "6  lucy       Sense & Sensibility 160 0.0013337668 0.6931472 0.0009244967\n",
       "7  brandon    Sense & Sensibility 119 0.0009919891 0.6931472 0.0006875944\n",
       "8  ferrars    Sense & Sensibility 114 0.0009503089 0.6931472 0.0006587039\n",
       "9  barton     Sense & Sensibility  89 0.0007419078 0.6931472 0.0005142513\n",
       "10 middleton  Sense & Sensibility  87 0.0007252357 0.6931472 0.0005026951"
      ]
     },
     "metadata": {},
     "output_type": "display_data"
    }
   ],
   "source": [
    "# these are the top ten words associated with Sense & Sensibility\n",
    "austen_books_tf_idf  %>% \n",
    " filter(title == \"Sense & Sensibility\")  %>% \n",
    " head(10)"
   ]
  },
  {
   "cell_type": "code",
   "execution_count": 10,
   "metadata": {},
   "outputs": [
    {
     "data": {
      "text/html": [
       "<table>\n",
       "<thead><tr><th scope=col>word</th><th scope=col>title</th><th scope=col>n</th><th scope=col>tf</th><th scope=col>idf</th><th scope=col>tf_idf</th></tr></thead>\n",
       "<tbody>\n",
       "\t<tr><td>elizabeth            </td><td>Pride &amp; Prejudice</td><td>597                  </td><td>0.0048852738         </td><td>0.6931472            </td><td>0.0033862138         </td></tr>\n",
       "\t<tr><td><span style=white-space:pre-wrap>darcy    </span></td><td>Pride &amp; Prejudice                            </td><td>373                                              </td><td>0.0030522732                                     </td><td>0.6931472                                        </td><td>0.0021156746                                     </td></tr>\n",
       "\t<tr><td><span style=white-space:pre-wrap>bennet   </span></td><td>Pride &amp; Prejudice                            </td><td>294                                              </td><td>0.0024058132                                     </td><td>0.6931472                                        </td><td>0.0016675827                                     </td></tr>\n",
       "\t<tr><td><span style=white-space:pre-wrap>bingley  </span></td><td>Pride &amp; Prejudice                            </td><td>257                                              </td><td>0.0021030408                                     </td><td>0.6931472                                        </td><td>0.0014577168                                     </td></tr>\n",
       "\t<tr><td><span style=white-space:pre-wrap>wickham  </span></td><td>Pride &amp; Prejudice                            </td><td>162                                              </td><td>0.0013256522                                     </td><td>0.6931472                                        </td><td>0.0009188721                                     </td></tr>\n",
       "\t<tr><td><span style=white-space:pre-wrap>collins  </span></td><td>Pride &amp; Prejudice                            </td><td>156                                              </td><td>0.0012765540                                     </td><td>0.6931472                                        </td><td>0.0008848398                                     </td></tr>\n",
       "\t<tr><td><span style=white-space:pre-wrap>lydia    </span></td><td>Pride &amp; Prejudice                            </td><td>133                                              </td><td>0.0010883441                                     </td><td>0.6931472                                        </td><td>0.0007543826                                     </td></tr>\n",
       "\t<tr><td>catherine            </td><td>Pride &amp; Prejudice</td><td>110                  </td><td>0.0009001342         </td><td>0.6931472            </td><td>0.0006239255         </td></tr>\n",
       "\t<tr><td><span style=white-space:pre-wrap>lizzy    </span></td><td>Pride &amp; Prejudice                            </td><td> 95                                              </td><td>0.0007773886                                     </td><td>0.6931472                                        </td><td>0.0005388447                                     </td></tr>\n",
       "\t<tr><td>longbourn            </td><td>Pride &amp; Prejudice</td><td> 88                  </td><td>0.0007201074         </td><td>0.6931472            </td><td>0.0004991404         </td></tr>\n",
       "</tbody>\n",
       "</table>\n"
      ],
      "text/latex": [
       "\\begin{tabular}{r|llllll}\n",
       " word & title & n & tf & idf & tf\\_idf\\\\\n",
       "\\hline\n",
       "\t elizabeth           & Pride \\& Prejudice & 597                 & 0.0048852738        & 0.6931472           & 0.0033862138       \\\\\n",
       "\t darcy               & Pride \\& Prejudice & 373                 & 0.0030522732        & 0.6931472           & 0.0021156746       \\\\\n",
       "\t bennet              & Pride \\& Prejudice & 294                 & 0.0024058132        & 0.6931472           & 0.0016675827       \\\\\n",
       "\t bingley             & Pride \\& Prejudice & 257                 & 0.0021030408        & 0.6931472           & 0.0014577168       \\\\\n",
       "\t wickham             & Pride \\& Prejudice & 162                 & 0.0013256522        & 0.6931472           & 0.0009188721       \\\\\n",
       "\t collins             & Pride \\& Prejudice & 156                 & 0.0012765540        & 0.6931472           & 0.0008848398       \\\\\n",
       "\t lydia               & Pride \\& Prejudice & 133                 & 0.0010883441        & 0.6931472           & 0.0007543826       \\\\\n",
       "\t catherine           & Pride \\& Prejudice & 110                 & 0.0009001342        & 0.6931472           & 0.0006239255       \\\\\n",
       "\t lizzy               & Pride \\& Prejudice &  95                 & 0.0007773886        & 0.6931472           & 0.0005388447       \\\\\n",
       "\t longbourn           & Pride \\& Prejudice &  88                 & 0.0007201074        & 0.6931472           & 0.0004991404       \\\\\n",
       "\\end{tabular}\n"
      ],
      "text/markdown": [
       "\n",
       "| word | title | n | tf | idf | tf_idf |\n",
       "|---|---|---|---|---|---|\n",
       "| elizabeth         | Pride & Prejudice | 597               | 0.0048852738      | 0.6931472         | 0.0033862138      |\n",
       "| darcy             | Pride & Prejudice | 373               | 0.0030522732      | 0.6931472         | 0.0021156746      |\n",
       "| bennet            | Pride & Prejudice | 294               | 0.0024058132      | 0.6931472         | 0.0016675827      |\n",
       "| bingley           | Pride & Prejudice | 257               | 0.0021030408      | 0.6931472         | 0.0014577168      |\n",
       "| wickham           | Pride & Prejudice | 162               | 0.0013256522      | 0.6931472         | 0.0009188721      |\n",
       "| collins           | Pride & Prejudice | 156               | 0.0012765540      | 0.6931472         | 0.0008848398      |\n",
       "| lydia             | Pride & Prejudice | 133               | 0.0010883441      | 0.6931472         | 0.0007543826      |\n",
       "| catherine         | Pride & Prejudice | 110               | 0.0009001342      | 0.6931472         | 0.0006239255      |\n",
       "| lizzy             | Pride & Prejudice |  95               | 0.0007773886      | 0.6931472         | 0.0005388447      |\n",
       "| longbourn         | Pride & Prejudice |  88               | 0.0007201074      | 0.6931472         | 0.0004991404      |\n",
       "\n"
      ],
      "text/plain": [
       "   word      title             n   tf           idf       tf_idf      \n",
       "1  elizabeth Pride & Prejudice 597 0.0048852738 0.6931472 0.0033862138\n",
       "2  darcy     Pride & Prejudice 373 0.0030522732 0.6931472 0.0021156746\n",
       "3  bennet    Pride & Prejudice 294 0.0024058132 0.6931472 0.0016675827\n",
       "4  bingley   Pride & Prejudice 257 0.0021030408 0.6931472 0.0014577168\n",
       "5  wickham   Pride & Prejudice 162 0.0013256522 0.6931472 0.0009188721\n",
       "6  collins   Pride & Prejudice 156 0.0012765540 0.6931472 0.0008848398\n",
       "7  lydia     Pride & Prejudice 133 0.0010883441 0.6931472 0.0007543826\n",
       "8  catherine Pride & Prejudice 110 0.0009001342 0.6931472 0.0006239255\n",
       "9  lizzy     Pride & Prejudice  95 0.0007773886 0.6931472 0.0005388447\n",
       "10 longbourn Pride & Prejudice  88 0.0007201074 0.6931472 0.0004991404"
      ]
     },
     "metadata": {},
     "output_type": "display_data"
    }
   ],
   "source": [
    "# these are the top ten words associated with Pride & Prejudice \n",
    "austen_books_tf_idf  %>% \n",
    " filter(title == \"Pride & Prejudice\")  %>% \n",
    " head(10)"
   ]
  },
  {
   "cell_type": "code",
   "execution_count": 11,
   "metadata": {},
   "outputs": [
    {
     "name": "stderr",
     "output_type": "stream",
     "text": [
      "Joining, by = \"word\"\n"
     ]
    }
   ],
   "source": [
    "# removing stop words \n",
    "austen_tibble_no_stops <- austen_tibble %>%\n",
    "  anti_join(stop_words)"
   ]
  },
  {
   "cell_type": "code",
   "execution_count": 12,
   "metadata": {},
   "outputs": [
    {
     "data": {
      "text/html": [
       "<table>\n",
       "<thead><tr><th scope=col>word</th><th scope=col>book</th><th scope=col>n</th></tr></thead>\n",
       "<tbody>\n",
       "\t<tr><td><span style=white-space:pre-wrap>elinor    </span></td><td>Sense &amp; Sensibility                           </td><td>623                                               </td></tr>\n",
       "\t<tr><td><span style=white-space:pre-wrap>marianne  </span></td><td>Sense &amp; Sensibility                           </td><td>492                                               </td></tr>\n",
       "\t<tr><td><span style=white-space:pre-wrap>time      </span></td><td>Sense &amp; Sensibility                           </td><td>239                                               </td></tr>\n",
       "\t<tr><td><span style=white-space:pre-wrap>dashwood  </span></td><td>Sense &amp; Sensibility                           </td><td>231                                               </td></tr>\n",
       "\t<tr><td><span style=white-space:pre-wrap>sister    </span></td><td>Sense &amp; Sensibility                           </td><td>229                                               </td></tr>\n",
       "\t<tr><td><span style=white-space:pre-wrap>edward    </span></td><td>Sense &amp; Sensibility                           </td><td>220                                               </td></tr>\n",
       "\t<tr><td><span style=white-space:pre-wrap>mother    </span></td><td>Sense &amp; Sensibility                           </td><td>213                                               </td></tr>\n",
       "\t<tr><td><span style=white-space:pre-wrap>miss      </span></td><td>Sense &amp; Sensibility                           </td><td>210                                               </td></tr>\n",
       "\t<tr><td><span style=white-space:pre-wrap>jennings  </span></td><td>Sense &amp; Sensibility                           </td><td>199                                               </td></tr>\n",
       "\t<tr><td>willoughby             </td><td>Sense &amp; Sensibility</td><td>181                    </td></tr>\n",
       "</tbody>\n",
       "</table>\n"
      ],
      "text/latex": [
       "\\begin{tabular}{r|lll}\n",
       " word & book & n\\\\\n",
       "\\hline\n",
       "\t elinor                & Sense \\& Sensibility & 623                  \\\\\n",
       "\t marianne              & Sense \\& Sensibility & 492                  \\\\\n",
       "\t time                  & Sense \\& Sensibility & 239                  \\\\\n",
       "\t dashwood              & Sense \\& Sensibility & 231                  \\\\\n",
       "\t sister                & Sense \\& Sensibility & 229                  \\\\\n",
       "\t edward                & Sense \\& Sensibility & 220                  \\\\\n",
       "\t mother                & Sense \\& Sensibility & 213                  \\\\\n",
       "\t miss                  & Sense \\& Sensibility & 210                  \\\\\n",
       "\t jennings              & Sense \\& Sensibility & 199                  \\\\\n",
       "\t willoughby            & Sense \\& Sensibility & 181                  \\\\\n",
       "\\end{tabular}\n"
      ],
      "text/markdown": [
       "\n",
       "| word | book | n |\n",
       "|---|---|---|\n",
       "| elinor              | Sense & Sensibility | 623                 |\n",
       "| marianne            | Sense & Sensibility | 492                 |\n",
       "| time                | Sense & Sensibility | 239                 |\n",
       "| dashwood            | Sense & Sensibility | 231                 |\n",
       "| sister              | Sense & Sensibility | 229                 |\n",
       "| edward              | Sense & Sensibility | 220                 |\n",
       "| mother              | Sense & Sensibility | 213                 |\n",
       "| miss                | Sense & Sensibility | 210                 |\n",
       "| jennings            | Sense & Sensibility | 199                 |\n",
       "| willoughby          | Sense & Sensibility | 181                 |\n",
       "\n"
      ],
      "text/plain": [
       "   word       book                n  \n",
       "1  elinor     Sense & Sensibility 623\n",
       "2  marianne   Sense & Sensibility 492\n",
       "3  time       Sense & Sensibility 239\n",
       "4  dashwood   Sense & Sensibility 231\n",
       "5  sister     Sense & Sensibility 229\n",
       "6  edward     Sense & Sensibility 220\n",
       "7  mother     Sense & Sensibility 213\n",
       "8  miss       Sense & Sensibility 210\n",
       "9  jennings   Sense & Sensibility 199\n",
       "10 willoughby Sense & Sensibility 181"
      ]
     },
     "metadata": {},
     "output_type": "display_data"
    }
   ],
   "source": [
    "# top ten words without stop words in Sense & Sensibility\n",
    "austen_tibble_no_stops  %>% \n",
    " filter(book == \"Sense & Sensibility\") %>% \n",
    " head(10)"
   ]
  },
  {
   "cell_type": "code",
   "execution_count": 13,
   "metadata": {},
   "outputs": [
    {
     "data": {
      "text/html": [
       "<table>\n",
       "<thead><tr><th scope=col>word</th><th scope=col>book</th><th scope=col>n</th></tr></thead>\n",
       "<tbody>\n",
       "\t<tr><td>elizabeth            </td><td>Pride &amp; Prejudice</td><td>597                  </td></tr>\n",
       "\t<tr><td><span style=white-space:pre-wrap>darcy    </span></td><td>Pride &amp; Prejudice                            </td><td>373                                              </td></tr>\n",
       "\t<tr><td><span style=white-space:pre-wrap>bennet   </span></td><td>Pride &amp; Prejudice                            </td><td>294                                              </td></tr>\n",
       "\t<tr><td><span style=white-space:pre-wrap>miss     </span></td><td>Pride &amp; Prejudice                            </td><td>283                                              </td></tr>\n",
       "\t<tr><td><span style=white-space:pre-wrap>jane     </span></td><td>Pride &amp; Prejudice                            </td><td>264                                              </td></tr>\n",
       "\t<tr><td><span style=white-space:pre-wrap>bingley  </span></td><td>Pride &amp; Prejudice                            </td><td>257                                              </td></tr>\n",
       "\t<tr><td><span style=white-space:pre-wrap>time     </span></td><td>Pride &amp; Prejudice                            </td><td>203                                              </td></tr>\n",
       "\t<tr><td><span style=white-space:pre-wrap>lady     </span></td><td>Pride &amp; Prejudice                            </td><td>183                                              </td></tr>\n",
       "\t<tr><td><span style=white-space:pre-wrap>sister   </span></td><td>Pride &amp; Prejudice                            </td><td>180                                              </td></tr>\n",
       "\t<tr><td><span style=white-space:pre-wrap>wickham  </span></td><td>Pride &amp; Prejudice                            </td><td>162                                              </td></tr>\n",
       "</tbody>\n",
       "</table>\n"
      ],
      "text/latex": [
       "\\begin{tabular}{r|lll}\n",
       " word & book & n\\\\\n",
       "\\hline\n",
       "\t elizabeth           & Pride \\& Prejudice & 597                \\\\\n",
       "\t darcy               & Pride \\& Prejudice & 373                \\\\\n",
       "\t bennet              & Pride \\& Prejudice & 294                \\\\\n",
       "\t miss                & Pride \\& Prejudice & 283                \\\\\n",
       "\t jane                & Pride \\& Prejudice & 264                \\\\\n",
       "\t bingley             & Pride \\& Prejudice & 257                \\\\\n",
       "\t time                & Pride \\& Prejudice & 203                \\\\\n",
       "\t lady                & Pride \\& Prejudice & 183                \\\\\n",
       "\t sister              & Pride \\& Prejudice & 180                \\\\\n",
       "\t wickham             & Pride \\& Prejudice & 162                \\\\\n",
       "\\end{tabular}\n"
      ],
      "text/markdown": [
       "\n",
       "| word | book | n |\n",
       "|---|---|---|\n",
       "| elizabeth         | Pride & Prejudice | 597               |\n",
       "| darcy             | Pride & Prejudice | 373               |\n",
       "| bennet            | Pride & Prejudice | 294               |\n",
       "| miss              | Pride & Prejudice | 283               |\n",
       "| jane              | Pride & Prejudice | 264               |\n",
       "| bingley           | Pride & Prejudice | 257               |\n",
       "| time              | Pride & Prejudice | 203               |\n",
       "| lady              | Pride & Prejudice | 183               |\n",
       "| sister            | Pride & Prejudice | 180               |\n",
       "| wickham           | Pride & Prejudice | 162               |\n",
       "\n"
      ],
      "text/plain": [
       "   word      book              n  \n",
       "1  elizabeth Pride & Prejudice 597\n",
       "2  darcy     Pride & Prejudice 373\n",
       "3  bennet    Pride & Prejudice 294\n",
       "4  miss      Pride & Prejudice 283\n",
       "5  jane      Pride & Prejudice 264\n",
       "6  bingley   Pride & Prejudice 257\n",
       "7  time      Pride & Prejudice 203\n",
       "8  lady      Pride & Prejudice 183\n",
       "9  sister    Pride & Prejudice 180\n",
       "10 wickham   Pride & Prejudice 162"
      ]
     },
     "metadata": {},
     "output_type": "display_data"
    }
   ],
   "source": [
    "# top ten words without stop words in Pride & Prejudice\n",
    "austen_tibble_no_stops %>% \n",
    " filter(book == \"Pride & Prejudice\") %>% \n",
    " head(10)"
   ]
  },
  {
   "cell_type": "code",
   "execution_count": 14,
   "metadata": {},
   "outputs": [
    {
     "name": "stderr",
     "output_type": "stream",
     "text": [
      "Joining, by = \"word\"\n"
     ]
    }
   ],
   "source": [
    "# sentiment analysis\n",
    "austen_sentiment_analysis <- austen_tibble %>%  \n",
    "  inner_join(get_sentiments(\"bing\"))"
   ]
  },
  {
   "cell_type": "code",
   "execution_count": 15,
   "metadata": {},
   "outputs": [
    {
     "data": {
      "text/html": [
       "<table>\n",
       "<thead><tr><th scope=col>word</th><th scope=col>book</th><th scope=col>n</th><th scope=col>sentiment</th></tr></thead>\n",
       "<tbody>\n",
       "\t<tr><td><span style=white-space:pre-wrap>well     </span></td><td>Sense &amp; Sensibility                          </td><td>240                                              </td><td>positive                                         </td></tr>\n",
       "\t<tr><td><span style=white-space:pre-wrap>miss     </span></td><td>Sense &amp; Sensibility                          </td><td>210                                              </td><td>negative                                         </td></tr>\n",
       "\t<tr><td><span style=white-space:pre-wrap>good     </span></td><td>Sense &amp; Sensibility                          </td><td>177                                              </td><td>positive                                         </td></tr>\n",
       "\t<tr><td><span style=white-space:pre-wrap>great    </span></td><td>Sense &amp; Sensibility                          </td><td>149                                              </td><td>positive                                         </td></tr>\n",
       "\t<tr><td><span style=white-space:pre-wrap>enough   </span></td><td>Sense &amp; Sensibility                          </td><td>103                                              </td><td>positive                                         </td></tr>\n",
       "\t<tr><td><span style=white-space:pre-wrap>happy    </span></td><td>Sense &amp; Sensibility                          </td><td>100                                              </td><td>positive                                         </td></tr>\n",
       "\t<tr><td><span style=white-space:pre-wrap>like     </span></td><td>Sense &amp; Sensibility                          </td><td> 83                                              </td><td>positive                                         </td></tr>\n",
       "\t<tr><td>affection              </td><td>Sense &amp; Sensibility</td><td> 79                    </td><td>positive               </td></tr>\n",
       "\t<tr><td><span style=white-space:pre-wrap>better   </span></td><td>Sense &amp; Sensibility                          </td><td> 78                                              </td><td>positive                                         </td></tr>\n",
       "\t<tr><td><span style=white-space:pre-wrap>love     </span></td><td>Sense &amp; Sensibility                          </td><td> 77                                              </td><td>positive                                         </td></tr>\n",
       "</tbody>\n",
       "</table>\n"
      ],
      "text/latex": [
       "\\begin{tabular}{r|llll}\n",
       " word & book & n & sentiment\\\\\n",
       "\\hline\n",
       "\t well                  & Sense \\& Sensibility & 240                   & positive             \\\\\n",
       "\t miss                  & Sense \\& Sensibility & 210                   & negative             \\\\\n",
       "\t good                  & Sense \\& Sensibility & 177                   & positive             \\\\\n",
       "\t great                 & Sense \\& Sensibility & 149                   & positive             \\\\\n",
       "\t enough                & Sense \\& Sensibility & 103                   & positive             \\\\\n",
       "\t happy                 & Sense \\& Sensibility & 100                   & positive             \\\\\n",
       "\t like                  & Sense \\& Sensibility &  83                   & positive             \\\\\n",
       "\t affection             & Sense \\& Sensibility &  79                   & positive             \\\\\n",
       "\t better                & Sense \\& Sensibility &  78                   & positive             \\\\\n",
       "\t love                  & Sense \\& Sensibility &  77                   & positive             \\\\\n",
       "\\end{tabular}\n"
      ],
      "text/markdown": [
       "\n",
       "| word | book | n | sentiment |\n",
       "|---|---|---|---|\n",
       "| well                | Sense & Sensibility | 240                 | positive            |\n",
       "| miss                | Sense & Sensibility | 210                 | negative            |\n",
       "| good                | Sense & Sensibility | 177                 | positive            |\n",
       "| great               | Sense & Sensibility | 149                 | positive            |\n",
       "| enough              | Sense & Sensibility | 103                 | positive            |\n",
       "| happy               | Sense & Sensibility | 100                 | positive            |\n",
       "| like                | Sense & Sensibility |  83                 | positive            |\n",
       "| affection           | Sense & Sensibility |  79                 | positive            |\n",
       "| better              | Sense & Sensibility |  78                 | positive            |\n",
       "| love                | Sense & Sensibility |  77                 | positive            |\n",
       "\n"
      ],
      "text/plain": [
       "   word      book                n   sentiment\n",
       "1  well      Sense & Sensibility 240 positive \n",
       "2  miss      Sense & Sensibility 210 negative \n",
       "3  good      Sense & Sensibility 177 positive \n",
       "4  great     Sense & Sensibility 149 positive \n",
       "5  enough    Sense & Sensibility 103 positive \n",
       "6  happy     Sense & Sensibility 100 positive \n",
       "7  like      Sense & Sensibility  83 positive \n",
       "8  affection Sense & Sensibility  79 positive \n",
       "9  better    Sense & Sensibility  78 positive \n",
       "10 love      Sense & Sensibility  77 positive "
      ]
     },
     "metadata": {},
     "output_type": "display_data"
    }
   ],
   "source": [
    "# most frequent words with an associated sentiment in Sense & Sensibility\n",
    "austen_sentiment_analysis  %>% \n",
    "  filter(book == \"Sense & Sensibility\") %>% \n",
    "  head(10)"
   ]
  },
  {
   "cell_type": "code",
   "execution_count": 16,
   "metadata": {},
   "outputs": [
    {
     "data": {
      "text/html": [
       "<table>\n",
       "<thead><tr><th scope=col>word</th><th scope=col>book</th><th scope=col>n</th><th scope=col>sentiment</th></tr></thead>\n",
       "<tbody>\n",
       "\t<tr><td><span style=white-space:pre-wrap>miss    </span></td><td>Pride &amp; Prejudice                           </td><td>283                                             </td><td>negative                                        </td></tr>\n",
       "\t<tr><td><span style=white-space:pre-wrap>well    </span></td><td>Pride &amp; Prejudice                           </td><td>224                                             </td><td>positive                                        </td></tr>\n",
       "\t<tr><td><span style=white-space:pre-wrap>good    </span></td><td>Pride &amp; Prejudice                           </td><td>200                                             </td><td>positive                                        </td></tr>\n",
       "\t<tr><td><span style=white-space:pre-wrap>great   </span></td><td>Pride &amp; Prejudice                           </td><td>142                                             </td><td>positive                                        </td></tr>\n",
       "\t<tr><td><span style=white-space:pre-wrap>enough  </span></td><td>Pride &amp; Prejudice                           </td><td>106                                             </td><td>positive                                        </td></tr>\n",
       "\t<tr><td><span style=white-space:pre-wrap>better  </span></td><td>Pride &amp; Prejudice                           </td><td> 92                                             </td><td>positive                                        </td></tr>\n",
       "\t<tr><td><span style=white-space:pre-wrap>love    </span></td><td>Pride &amp; Prejudice                           </td><td> 92                                             </td><td>positive                                        </td></tr>\n",
       "\t<tr><td>pleasure             </td><td>Pride &amp; Prejudice</td><td> 92                  </td><td>positive             </td></tr>\n",
       "\t<tr><td><span style=white-space:pre-wrap>happy   </span></td><td>Pride &amp; Prejudice                           </td><td> 83                                             </td><td>positive                                        </td></tr>\n",
       "\t<tr><td><span style=white-space:pre-wrap>like    </span></td><td>Pride &amp; Prejudice                           </td><td> 77                                             </td><td>positive                                        </td></tr>\n",
       "</tbody>\n",
       "</table>\n"
      ],
      "text/latex": [
       "\\begin{tabular}{r|llll}\n",
       " word & book & n & sentiment\\\\\n",
       "\\hline\n",
       "\t miss                & Pride \\& Prejudice & 283                 & negative           \\\\\n",
       "\t well                & Pride \\& Prejudice & 224                 & positive           \\\\\n",
       "\t good                & Pride \\& Prejudice & 200                 & positive           \\\\\n",
       "\t great               & Pride \\& Prejudice & 142                 & positive           \\\\\n",
       "\t enough              & Pride \\& Prejudice & 106                 & positive           \\\\\n",
       "\t better              & Pride \\& Prejudice &  92                 & positive           \\\\\n",
       "\t love                & Pride \\& Prejudice &  92                 & positive           \\\\\n",
       "\t pleasure            & Pride \\& Prejudice &  92                 & positive           \\\\\n",
       "\t happy               & Pride \\& Prejudice &  83                 & positive           \\\\\n",
       "\t like                & Pride \\& Prejudice &  77                 & positive           \\\\\n",
       "\\end{tabular}\n"
      ],
      "text/markdown": [
       "\n",
       "| word | book | n | sentiment |\n",
       "|---|---|---|---|\n",
       "| miss              | Pride & Prejudice | 283               | negative          |\n",
       "| well              | Pride & Prejudice | 224               | positive          |\n",
       "| good              | Pride & Prejudice | 200               | positive          |\n",
       "| great             | Pride & Prejudice | 142               | positive          |\n",
       "| enough            | Pride & Prejudice | 106               | positive          |\n",
       "| better            | Pride & Prejudice |  92               | positive          |\n",
       "| love              | Pride & Prejudice |  92               | positive          |\n",
       "| pleasure          | Pride & Prejudice |  92               | positive          |\n",
       "| happy             | Pride & Prejudice |  83               | positive          |\n",
       "| like              | Pride & Prejudice |  77               | positive          |\n",
       "\n"
      ],
      "text/plain": [
       "   word     book              n   sentiment\n",
       "1  miss     Pride & Prejudice 283 negative \n",
       "2  well     Pride & Prejudice 224 positive \n",
       "3  good     Pride & Prejudice 200 positive \n",
       "4  great    Pride & Prejudice 142 positive \n",
       "5  enough   Pride & Prejudice 106 positive \n",
       "6  better   Pride & Prejudice  92 positive \n",
       "7  love     Pride & Prejudice  92 positive \n",
       "8  pleasure Pride & Prejudice  92 positive \n",
       "9  happy    Pride & Prejudice  83 positive \n",
       "10 like     Pride & Prejudice  77 positive "
      ]
     },
     "metadata": {},
     "output_type": "display_data"
    }
   ],
   "source": [
    "# most frequent words with an associated sentiment in Pride & Prejudice \n",
    "austen_sentiment_analysis  %>% \n",
    "  filter(book == \"Pride & Prejudice\") %>% \n",
    "  head(10)"
   ]
  },
  {
   "cell_type": "code",
   "execution_count": 17,
   "metadata": {},
   "outputs": [],
   "source": [
    "# saving the top ten to be used in the plot\n",
    "austen_sentiment_analysis_plot <- austen_sentiment_analysis  %>% \n",
    "  head(10)"
   ]
  },
  {
   "cell_type": "code",
   "execution_count": 23,
   "metadata": {},
   "outputs": [],
   "source": [
    "austen_plot <- austen_sentiment_analysis_plot %>% \n",
    "ggplot() +\n",
    "geom_col(aes(x = word, y = n, fill = sentiment)) +\n",
    "labs(\n",
    "    title = \"Top Sentiment Words by Book\",\n",
    "    x = \"Sentiment Word\",\n",
    "    y = \"Count\",\n",
    "    fill = \"Sentiment Type\") +\n",
    "facet_wrap(~book)"
   ]
  },
  {
   "cell_type": "code",
   "execution_count": 24,
   "metadata": {},
   "outputs": [
    {
     "data": {
      "image/png": "[encoded data removed]",
      "text/plain": [
       "plot without title"
      ]
     },
     "metadata": {},
     "output_type": "display_data"
    }
   ],
   "source": [
    "austen_plot"
   ]
  }
 ],
 "metadata": {
  "kernelspec": {
   "display_name": "R",
   "language": "R",
   "name": "ir"
  },
  "language_info": {
   "codemirror_mode": "r",
   "file_extension": ".r",
   "mimetype": "text/x-r-source",
   "name": "R",
   "pygments_lexer": "r",
   "version": "3.6.1"
  }
 },
 "nbformat": 4,
 "nbformat_minor": 4
}
